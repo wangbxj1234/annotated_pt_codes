{
  "nbformat": 4,
  "nbformat_minor": 0,
  "metadata": {
    "colab": {
      "name": "下采样.ipynb",
      "provenance": [],
      "collapsed_sections": [],
      "authorship_tag": "ABX9TyMTIsZRSkGIIjfTehuzD5V+",
      "include_colab_link": true
    },
    "kernelspec": {
      "name": "python3",
      "display_name": "Python 3"
    },
    "language_info": {
      "name": "python"
    }
  },
  "cells": [
    {
      "cell_type": "markdown",
      "metadata": {
        "id": "view-in-github",
        "colab_type": "text"
      },
      "source": [
        "<a href=\"https://colab.research.google.com/github/wangbxj1234/annotated_pt_codes/blob/main/%E4%B8%8B%E9%87%87%E6%A0%B7.ipynb\" target=\"_parent\"><img src=\"https://colab.research.google.com/assets/colab-badge.svg\" alt=\"Open In Colab\"/></a>"
      ]
    },
    {
      "cell_type": "code",
      "execution_count": 12,
      "metadata": {
        "id": "xYn3MFs-urB7"
      },
      "outputs": [],
      "source": [
        "import torch\n",
        "import torch.nn as nn\n",
        "import torch.nn.functional as F\n",
        "import numpy as np\n",
        "def square_distance(src, dst):\n",
        "    \"\"\"\n",
        "    Calculate Euclid distance between each two points.\n",
        "    src^T * dst = xn * xm + yn * ym + zn * zm；\n",
        "    sum(src^2, dim=-1) = xn*xn + yn*yn + zn*zn;\n",
        "    sum(dst^2, dim=-1) = xm*xm + ym*ym + zm*zm;\n",
        "    dist = (xn - xm)^2 + (yn - ym)^2 + (zn - zm)^2\n",
        "         = sum(src**2,dim=-1)+sum(dst**2,dim=-1)-2*src^T*dst\n",
        "    Input:\n",
        "        src: source points, [B, N, C]\n",
        "        dst: target points, [B, M, C]\n",
        "    Output:\n",
        "        dist: per-point square distance, [B, N, M]\n",
        "    \"\"\"\n",
        "    return torch.sum((src[:, :, None] - dst[:, None]) ** 2, dim=-1)\n",
        "\n",
        "def index_points(points, idx):#从n个坐标中按照index提取s个坐标或者s*k个坐标，可以进行sampling 或者 sampling&grouping\n",
        "    \"\"\"\n",
        "    Input:\n",
        "        points: input points data, [B, N, C]\n",
        "        idx: sample index data, [B, S, [K]]\n",
        "    Return:\n",
        "        new_points:, indexed points data, [B, S, [K], C] \n",
        "    \"\"\"\n",
        "    raw_size = idx.size()#这里是torch size 相当于 numpy的shape\n",
        "    idx = idx.reshape(raw_size[0], -1) # B,S.  OR.   B,S*K.\n",
        "    res = torch.gather(points, 1, idx[..., None].expand(-1, -1, points.size(-1))) #先把idx的第三维复制到=C,再用gather按索引提取对应点出来。\n",
        "    return res.reshape(*raw_size, -1)#就是idx的shape（2维或者三维），再加上最后一维c，理论上这个-1也可以写成'points.size(-1)'吧。\n",
        "    \n",
        "class TransformerBlock(nn.Module):\n",
        "    def __init__(self, d_points, d_model, k) -> None:\n",
        "        super().__init__()\n",
        "        self.fc1 = nn.Linear(d_points, d_model)\n",
        "        self.fc2 = nn.Linear(d_model, d_points)\n",
        "        self.fc_delta = nn.Sequential(\n",
        "            nn.Linear(3, d_model),\n",
        "            nn.ReLU(),\n",
        "            nn.Linear(d_model, d_model)\n",
        "        )\n",
        "        self.fc_gamma = nn.Sequential(\n",
        "            nn.Linear(d_model, d_model),\n",
        "            nn.ReLU(),\n",
        "            nn.Linear(d_model, d_model)\n",
        "        )\n",
        "        self.w_qs = nn.Linear(d_model, d_model, bias=False)\n",
        "        self.w_ks = nn.Linear(d_model, d_model, bias=False)\n",
        "        self.w_vs = nn.Linear(d_model, d_model, bias=False)\n",
        "        self.k = k\n",
        "        self.fc_sub = nn.Sequential(\n",
        "            nn.Linear(d_points, d_points),\n",
        "            nn.ReLU(),\n",
        "            nn.Linear(d_points, d_points),\n",
        "            nn.BatchNorm1d(d_points),\n",
        "            nn.ReLU()\n",
        "        )        \n",
        "    # xyz: b x n x 3, features: b x n x f\n",
        "    def forward(self, xyz, features):\n",
        "        dists = square_distance(xyz, xyz)\n",
        "        knn_idx = dists.argsort()[:, :, :self.k]  # b x n x k\n",
        "        knn_xyz = index_points(xyz, knn_idx)######b*n*k*f，local attention操作，没有sample，只有group！ （本来应该是b * n * n * f）\n",
        "        \n",
        "        x_in = features\n",
        "        x = self.fc1(features)\n",
        "        q, k, v = self.w_qs(x), index_points(self.w_ks(x), knn_idx), index_points(self.w_vs(x), knn_idx) #q取所有点，localatten所以k和v按knn取点。\n",
        "        #######\n",
        "        pos_enc = self.fc_delta(xyz[:, :, None] - knn_xyz)  ### b x n x k x f\n",
        "        #####\n",
        "        attn = self.fc_gamma(q[:, :, None] - k + pos_enc)\n",
        "        attn = F.softmax(attn / np.sqrt(k.size(-1)), dim=-2)  # b x n x k x f\n",
        "        ####（做内积的对象是2个， 每个都是 b x n x k x f \n",
        "        x_r = torch.einsum('bmnf,bmnf->bmf', attn, v + pos_enc) ########按照第3个维度做内积，又变成了 b * n * f。\n",
        "#        x_r = self.fc2(x_r) \n",
        "        print(x_r.shape)\n",
        " #       res = self.fc_sub(x_in-x_r) + x_in\n",
        "        res = self.fc2(x_r) + x_in                             \n",
        "        return res, attn\n",
        "\n",
        "attn = TransformerBlock(d_points=32, d_model=512, k=16) ################第一步，传入对应init中参数\n",
        "\n",
        "x = torch.randn(1, 1024, 32)\n",
        "xyz = x[..., :3] "
      ]
    },
    {
      "cell_type": "code",
      "source": [
        "attn(xyz,x)\n",
        "points = attn(xyz,x)[0]########第二步，传入对应forward参数"
      ],
      "metadata": {
        "colab": {
          "base_uri": "https://localhost:8080/"
        },
        "id": "mhZoLdfwu5nd",
        "outputId": "3af6ec8c-4b0b-422b-d565-b9bcc14a517c"
      },
      "execution_count": 13,
      "outputs": [
        {
          "output_type": "stream",
          "name": "stdout",
          "text": [
            "torch.Size([1, 1024, 512])\n",
            "torch.Size([1, 1024, 512])\n"
          ]
        }
      ]
    },
    {
      "cell_type": "code",
      "source": [
        "points.shape"
      ],
      "metadata": {
        "id": "qG_qvIxQMo2L",
        "outputId": "1691162a-57e7-4a08-a369-11525574cb01",
        "colab": {
          "base_uri": "https://localhost:8080/"
        }
      },
      "execution_count": 14,
      "outputs": [
        {
          "output_type": "execute_result",
          "data": {
            "text/plain": [
              "torch.Size([1, 1024, 32])"
            ]
          },
          "metadata": {},
          "execution_count": 14
        }
      ]
    },
    {
      "cell_type": "code",
      "source": [
        "import torch\n",
        "import torch.nn as nn\n",
        "import torch.nn.functional as F\n",
        "from time import time\n",
        "import numpy as np\n",
        "\n",
        "\n",
        "# reference https://github.com/yanx27/Pointnet_Pointnet2_pytorch, modified by Yang You\n",
        "\n",
        "\n",
        "def timeit(tag, t):\n",
        "    print(\"{}: {}s\".format(tag, time() - t))\n",
        "    return time()\n",
        "\n",
        "def pc_normalize(pc):\n",
        "    centroid = np.mean(pc, axis=0)\n",
        "    pc = pc - centroid\n",
        "    m = np.max(np.sqrt(np.sum(pc**2, axis=1)))\n",
        "    pc = pc / m\n",
        "    return pc\n",
        "\n",
        "def square_distance(src, dst):\n",
        "    \"\"\"\n",
        "    Calculate Euclid distance between each two points.\n",
        "    src^T * dst = xn * xm + yn * ym + zn * zm；\n",
        "    sum(src^2, dim=-1) = xn*xn + yn*yn + zn*zn;\n",
        "    sum(dst^2, dim=-1) = xm*xm + ym*ym + zm*zm;\n",
        "    dist = (xn - xm)^2 + (yn - ym)^2 + (zn - zm)^2\n",
        "         = sum(src**2,dim=-1)+sum(dst**2,dim=-1)-2*src^T*dst\n",
        "    Input:\n",
        "        src: source points, [B, N, C]\n",
        "        dst: target points, [B, M, C]\n",
        "    Output:\n",
        "        dist: per-point square distance, [B, N, M]\n",
        "    \"\"\"\n",
        "    return torch.sum((src[:, :, None] - dst[:, None]) ** 2, dim=-1)\n",
        "\n",
        "\n",
        "def index_points(points, idx):#从n个坐标中按照index提取s个坐标或者s*k个坐标，可以进行sampling 或者 sampling&grouping\n",
        "    \"\"\"\n",
        "    Input:\n",
        "        points: input points data, [B, N, C]\n",
        "        idx: sample index data, [B, S, [K]]\n",
        "    Return:\n",
        "        new_points:, indexed points data, [B, S, [K], C] \n",
        "    \"\"\"\n",
        "    raw_size = idx.size()#这里是torch size 相当于 numpy的shape\n",
        "    idx = idx.reshape(raw_size[0], -1) # B,S.  OR.   B,S*K.\n",
        "    res = torch.gather(points, 1, idx[..., None].expand(-1, -1, points.size(-1))) #先把idx的第三维复制到=C,再用gather按索引提取对应点出来。\n",
        "    return res.reshape(*raw_size, -1)#就是idx的shape（2维或者三维），再加上最后一维c，理论上这个-1也可以写成'points.size(-1)'吧。\n",
        "\n",
        "\n",
        "def farthest_point_sample(xyz, npoint):\n",
        "    \"\"\"\n",
        "    Input:\n",
        "        xyz: pointcloud data, [B, N, 3]\n",
        "        npoint: number of samples\n",
        "    Return:\n",
        "        centroids: sampled pointcloud index, [B, npoint]\n",
        "    \"\"\"\n",
        "    device = xyz.device\n",
        "    B, N, C = xyz.shape\n",
        "    centroids = torch.zeros(B, npoint, dtype=torch.long).to(device)\n",
        "    distance = torch.ones(B, N).to(device) * 1e10\n",
        "    farthest = torch.randint(0, N, (B,), dtype=torch.long).to(device)\n",
        "    batch_indices = torch.arange(B, dtype=torch.long).to(device)\n",
        "    for i in range(npoint):\n",
        "        centroids[:, i] = farthest\n",
        "        centroid = xyz[batch_indices, farthest, :].view(B, 1, 3)\n",
        "        dist = torch.sum((xyz - centroid) ** 2, -1)\n",
        "        distance = torch.min(distance, dist)\n",
        "        farthest = torch.max(distance, -1)[1]\n",
        "    return centroids\n",
        "\n",
        "\n",
        "\n",
        "\n",
        "\n",
        "def sample_and_group(npoint, radius, nsample, xyz, points, returnfps=False, knn=False):\n",
        "    \"\"\"\n",
        "    Input:\n",
        "        npoint:\n",
        "        radius:\n",
        "        nsample:\n",
        "        xyz: input points position data, [B, N, 3]\n",
        "        points: input points data, [B, N, D]\n",
        "    Return:\n",
        "        new_xyz: sampled points position data, [B, npoint, nsample, 3]\n",
        "        new_points: sampled points data, [B, npoint, nsample, 3+D]\n",
        "    \"\"\"\n",
        "    B, N, C = xyz.shape\n",
        "    S = npoint\n",
        "    fps_idx = farthest_point_sample(xyz, npoint) # [B, npoint],（centroids: sampled pointcloud index）\n",
        "    torch.cuda.empty_cache()#显存一步一清理，清除下面用不到的临时变量\n",
        "    new_xyz = index_points(xyz, fps_idx)#new_points:, indexed points data, [B, npoint, C]\n",
        "    torch.cuda.empty_cache()\n",
        "    if knn:\n",
        "        dists = square_distance(new_xyz, xyz)  # B x npoint x N\n",
        "        idx = dists.argsort()[:, :, :nsample]  # B x npoint x K       \n",
        "    else:\n",
        "        idx = query_ball_point(radius, nsample, xyz, new_xyz)\n",
        "    torch.cuda.empty_cache()\n",
        "    grouped_xyz = index_points(xyz, idx) # [B, npoint, nsample, C]\n",
        "    torch.cuda.empty_cache()\n",
        "    grouped_xyz_norm = grouped_xyz - new_xyz.view(B, S, 1, C) #就是针对每个组，都用k个点减去中心点，得到归一化的normalized coordinate\n",
        "    torch.cuda.empty_cache()\n",
        "\n",
        "    if points is not None: #如果输入的除了点云的坐标数据（c=3），还有特征数据（d=？），那么cat一下，c+d\n",
        "        grouped_points = index_points(points, idx)\n",
        "        new_points = torch.cat([grouped_xyz_norm, grouped_points], dim=-1) # [B, npoint, nsample, C+D]\n",
        "    else:######################如果没有特征数据d，那就只输出3维坐标特征\n",
        "        new_points = grouped_xyz_norm\n",
        "    if returnfps:\n",
        "        return new_xyz, new_points, grouped_xyz, fps_idx###想要 分组 和采样标签 也可以输出\n",
        "    else:\n",
        "        return new_xyz, new_points ######new_xyz输出的是中心点（sample的结果[B, npoint, C]），new_points是[B, npoint, nsample, C+D]\n",
        "\n",
        "\n",
        "###channel = 32 * 2 ** (i + 1)\n",
        "class PointNetSetAbstraction(nn.Module):##npoints // 4 ** (i + 1), 0, nneighbor, channel // 2 + 3, [channel, channel], group_all=False, knn=True\n",
        "    def __init__(self, npoint, radius, nsample, in_channel, mlp, group_all, knn=False):\n",
        "        super(PointNetSetAbstraction, self).__init__()\n",
        "        self.npoint = npoint\n",
        "        self.radius = radius\n",
        "        self.nsample = nsample\n",
        "        self.knn = knn\n",
        "        self.mlp_convs = nn.ModuleList()\n",
        "        self.mlp_bns = nn.ModuleList()\n",
        "        last_channel = in_channel#####channel // 2 + 3\n",
        "        for out_channel in mlp:#####[channel, channel]\n",
        "            self.mlp_convs.append(nn.Conv2d(last_channel, out_channel, 1))######两层2维卷积构成的mlp,1的意思是对第二个维度做卷积，inputdim是35，outputdim是64\n",
        "            self.mlp_bns.append(nn.BatchNorm2d(out_channel))\n",
        "            last_channel = out_channel\n",
        "            #print(out_channel)    64 ,64\n",
        "        self.group_all = group_all\n",
        "\n",
        "    def forward(self, xyz, points):\n",
        "        \"\"\"\n",
        "        Input:\n",
        "            xyz: input points position data, [B, N, C]\n",
        "            points: input points data, [B, N, C]\n",
        "        Return:\n",
        "            new_xyz: sampled points position data, [B, S, C]\n",
        "            new_points_concat: sample points feature data, [B, S, D']\n",
        "        \"\"\"\n",
        "        if self.group_all:\n",
        "            new_xyz, new_points = sample_and_group_all(xyz, points)\n",
        "        else:####################npoints // 4 ** (i + 1),0,16,xyz,points,knn\n",
        "            new_xyz, new_points = sample_and_group(self.npoint, self.radius, self.nsample, xyz, points, knn=self.knn)\n",
        "        # new_xyz: sampled points position data, [B, npoint, C]\n",
        "        # new_points: sampled points data, [B, npoint, nsample, C+D]\n",
        "        new_points = new_points.permute(0, 3, 2, 1) # [B, C+D, nsample,npoint]\n",
        "        print(new_points.shape)\n",
        "        for i, conv in enumerate(self.mlp_convs):\n",
        "            bn = self.mlp_bns[i]\n",
        "            new_points =  F.relu(bn(conv(new_points)))\n",
        "            print(i,new_points.shape)\n",
        "        new_points = torch.max(new_points, 2)[0].transpose(1, 2)\n",
        "        return new_xyz, new_points\n",
        "\n",
        "channel = 32 * 2 ** (0 + 1)######## 32 * 2，这是outputdim。\n",
        "channels=[channel // 2 + 3, channel, channel]############inputdim 就是 32+xyz那3维.\n",
        "transition_downs_0 = PointNetSetAbstraction(1024 // 4 ** (0 + 1), 0, 16, channels[0], channels[1:], group_all=False, knn=True)"
      ],
      "metadata": {
        "id": "6pY5j8_oMsTs"
      },
      "execution_count": 15,
      "outputs": []
    },
    {
      "cell_type": "code",
      "source": [
        "xyz, points = transition_downs_0(xyz, points)"
      ],
      "metadata": {
        "id": "6eml8sYdNDcB",
        "colab": {
          "base_uri": "https://localhost:8080/"
        },
        "outputId": "34b4c55c-ab6d-42eb-f0ad-398b935c3f47"
      },
      "execution_count": 16,
      "outputs": [
        {
          "output_type": "stream",
          "name": "stdout",
          "text": [
            "torch.Size([1, 35, 16, 256])\n",
            "0 torch.Size([1, 64, 16, 256])\n",
            "1 torch.Size([1, 64, 16, 256])\n"
          ]
        }
      ]
    },
    {
      "cell_type": "code",
      "source": [
        "print(xyz.shape,points.shape)"
      ],
      "metadata": {
        "id": "lhPVU-rwNTL7",
        "outputId": "f75f0aa8-6581-4cae-90d2-4e2eef8288ef",
        "colab": {
          "base_uri": "https://localhost:8080/"
        }
      },
      "execution_count": 17,
      "outputs": [
        {
          "output_type": "stream",
          "name": "stdout",
          "text": [
            "torch.Size([1, 256, 3]) torch.Size([1, 256, 64])\n"
          ]
        }
      ]
    },
    {
      "cell_type": "code",
      "source": [
        "channels"
      ],
      "metadata": {
        "colab": {
          "base_uri": "https://localhost:8080/"
        },
        "id": "KCMWWWXFQvDL",
        "outputId": "9a77376a-0aff-4313-e4a6-6cf54b9ae708"
      },
      "execution_count": 18,
      "outputs": [
        {
          "output_type": "execute_result",
          "data": {
            "text/plain": [
              "[35, 64, 64]"
            ]
          },
          "metadata": {},
          "execution_count": 18
        }
      ]
    },
    {
      "cell_type": "code",
      "source": [
        ""
      ],
      "metadata": {
        "id": "6dQhBlKBRA4s"
      },
      "execution_count": 18,
      "outputs": []
    }
  ]
}